{
  "nbformat": 4,
  "nbformat_minor": 0,
  "metadata": {
    "colab": {
      "name": "CertifiedPinoyQuiz_Rev#3.ipynb",
      "provenance": [],
      "collapsed_sections": [],
      "authorship_tag": "ABX9TyP2J+CKTQ8wDIX/8EQhtncA",
      "include_colab_link": true
    },
    "kernelspec": {
      "name": "python3",
      "display_name": "Python 3"
    }
  },
  "cells": [
    {
      "cell_type": "markdown",
      "metadata": {
        "id": "view-in-github",
        "colab_type": "text"
      },
      "source": [
        "<a href=\"https://colab.research.google.com/github/jela-nalica/PrettyPythonista/blob/master/CertifiedPinoyQuiz_Rev_3.ipynb\" target=\"_parent\"><img src=\"https://colab.research.google.com/assets/colab-badge.svg\" alt=\"Open In Colab\"/></a>"
      ]
    },
    {
      "cell_type": "markdown",
      "metadata": {
        "id": "Qe6nLjXHOU2l",
        "colab_type": "text"
      },
      "source": [
        "# **Are you a #CertifiedFilipino?**\n",
        "### the user-friendly version 2.0\n",
        "#### *Note: Not \"Yes or No\" answers will not be accepted.*"
      ]
    },
    {
      "cell_type": "code",
      "metadata": {
        "id": "x9ICH3oEBqxb",
        "colab_type": "code",
        "colab": {}
      },
      "source": [
        "# quiz questions\n",
        "questions = ['Do you eat rice 3x a day',\n",
        "            'Do you eat \"balut\"?',\n",
        "            'Do you panic whenever you hear a \"taho vendor\"?',\n",
        "            'Have you eaten with your bare hands?',\n",
        "            'Have you watch a film in an MMFF?',\n",
        "            'Have you taken your picture in the Luneta Park?',\n",
        "            'Do you put hotdog in your spaghetti?',\n",
        "            'Do you ride a jeep?',\n",
        "            'Do you still bless to your ninong and ninang?',\n",
        "            'Do you greet Merry Christmas as early as September 1?']\n",
        "\n",
        "# answer options\n",
        "answer_op = ['yes', 'no']\n",
        "\n",
        "# intro\n",
        "print(\"\"\"Wanna find out how Pinoy are you?\n",
        "Just honestly type-in Yes or No to answer the following questions. Goodluck!\"\"\")\n",
        "name = input(\"May I know you nickname please? \")\n",
        "\n",
        "# answer checking\n",
        "score = 0\n",
        "for question in questions:\n",
        "  print(question)\n",
        "  answer = input('Yes or No? ')\n",
        "  answer = answer.lower()\n",
        "  while answer not in answer_op:\n",
        "    print('Try again.')\n",
        "    answer = input('Yes or No? ')\n",
        "    answer = answer.lower()\n",
        "  else:\n",
        "    if answer == 'yes': \n",
        "      score += 1\n",
        "    elif answer == 'no': \n",
        "      score += 0\n",
        "\n",
        "# evaluating score\n",
        "print(f\"End of the quiz.\\nYou got {score} out of 10 {name.title()}.\")\n",
        "if score == 10: print(\"Cogratulations! You're a 100% #CertifiedPinoy!\")\n",
        "elif score == 9: print(\"You almost nailed it! You're 90% #CertifiedPinoy!\")\n",
        "elif score == 8: print(\"Good job! You're 80% #CertifiedPinoy!\")\n",
        "elif score == 7: print(\"Nice! You're 70% #CertifiedPinoy!\")\n",
        "elif score <= 6: print(\"Seriously? Try to be more pinoy next time.\")\n"
      ],
      "execution_count": null,
      "outputs": []
    },
    {
      "cell_type": "code",
      "metadata": {
        "id": "PNPdY1wBO8XQ",
        "colab_type": "code",
        "colab": {}
      },
      "source": [
        ""
      ],
      "execution_count": null,
      "outputs": []
    }
  ]
}