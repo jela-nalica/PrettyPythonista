{
  "nbformat": 4,
  "nbformat_minor": 0,
  "metadata": {
    "colab": {
      "name": "ADV_CertifiedPinoyQuiz_Rev#4(FINAL).ipynb",
      "provenance": [],
      "collapsed_sections": [],
      "authorship_tag": "ABX9TyPxQWLLBHLIBoG0QmtXySux",
      "include_colab_link": true
    },
    "kernelspec": {
      "name": "python3",
      "display_name": "Python 3"
    }
  },
  "cells": [
    {
      "cell_type": "markdown",
      "metadata": {
        "id": "view-in-github",
        "colab_type": "text"
      },
      "source": [
        "<a href=\"https://colab.research.google.com/github/jela-nalica/PrettyPythonista/blob/master/ADV_CertifiedPinoyQuiz_Rev_4(FINAL).ipynb\" target=\"_parent\"><img src=\"https://colab.research.google.com/assets/colab-badge.svg\" alt=\"Open In Colab\"/></a>"
      ]
    },
    {
      "cell_type": "markdown",
      "metadata": {
        "id": "pIf7ZuTEZ6uL"
      },
      "source": [
        "# **Are you a #CertifiedFilipino?**\n",
        "### Welcome to the quiz upgraded version with **CRUD questions**.\n",
        "#### **PLUS: updates with new questions**\n",
        "### Added features are:\n",
        "##### 1 - This quiz will only accept 10 users.\n",
        "##### 2 - You'll see your rank at the end of the quiz.\n",
        "\n",
        "#### *Note: Only \"Yes or No\" answers will be accepted.*"
      ]
    },
    {
      "cell_type": "code",
      "metadata": {
        "id": "X-dqmKOEatHu"
      },
      "source": [
        "# create quiz questions txt file\n",
        "questions_file = open(\"pinoyquiz.txt\", \"w\")\n",
        "questions = \"\"\"Do you eat rice 3x a day?\n",
        "Do you eat \"balut\"?\n",
        "Do you panic whenever you hear a \"taho vendor\"?\n",
        "Have you eaten with your bare hands?\n",
        "Have you watch a film in an MMFF?\n",
        "Have you taken your picture in the Luneta Park?\n",
        "Do you put hotdog in your spaghetti?\n",
        "Do you ride a jeep?\n",
        "Do you still bless to your ninong and ninang?\n",
        "Do you greet Merry Christmas as early as September 1?\"\"\"\n",
        "questions_file.write(questions)\n",
        "questions_file.close()"
      ],
      "execution_count": null,
      "outputs": []
    },
    {
      "cell_type": "code",
      "metadata": {
        "id": "KmO7aCbr1I3V",
        "outputId": "77e4a2f1-0e06-47a0-dcfd-9aeaeadc05e5",
        "colab": {
          "base_uri": "https://localhost:8080/",
          "height": 54
        }
      },
      "source": [
        "# opening question file\n",
        "questions_file = open(\"pinoyquiz.txt\", \"r\")\n",
        "questions = questions_file.read()\n",
        "questions = questions.split(\"\\n\")\n",
        "print(questions)"
      ],
      "execution_count": null,
      "outputs": [
        {
          "output_type": "stream",
          "text": [
            "['Do you still speak with \"po/opo\" even if its english?', 'Do you eat \"balut\"?', 'Do you say \"malapit na\" even though you\\'re really not?', 'Have you eaten with your bare hands?', 'Have you watch a film in an MMFF?', 'Have you taken your picture in the Luneta Park?', 'Do you always look for lumpia in every pinoy celebration?', 'Do you ride a jeep?', \"Have you ever watch a Manny Pacquiao's boxing fight?\", 'Do you greet Merry Christmas as early as September 1?']\n"
          ],
          "name": "stdout"
        }
      ]
    },
    {
      "cell_type": "code",
      "metadata": {
        "id": "BYNvAwEy4lRC"
      },
      "source": [
        "# answer options\n",
        "answer_op = ['yes', 'no']"
      ],
      "execution_count": null,
      "outputs": []
    },
    {
      "cell_type": "code",
      "metadata": {
        "id": "o4Fvfk2BZthN"
      },
      "source": [
        "# list of all players with scores\n",
        "players = []\n",
        "# individual player with score\n",
        "player = []\n",
        "\n",
        "# check answers\n",
        "def check_ans():\n",
        "    global answer\n",
        "    answer = input('Yes or No? ')\n",
        "    answer = answer.lower()\n",
        "    if answer == 'yes':\n",
        "      global score \n",
        "      score += 1\n",
        "    else:\n",
        "      pass\n",
        "    return answer\n",
        "\n",
        "# ranks players score\n",
        "def Sort(players):\n",
        "  players.sort(key = lambda x: x[1], reverse = True)\n",
        "  return players\n",
        "\n",
        "# quiz proper\n",
        "start = 'yes'\n",
        "while start == 'yes':\n",
        "  for i in range(10): # for 10 users only\n",
        "\n",
        "    # intro\n",
        "    print(\"\"\"\\nWanna find out how Pinoy are you?\n",
        "Just honestly type-in Yes or No to answer the following questions. Goodluck!\"\"\")\n",
        "    name = input(\"\\nMay I know you nickname please? \")\n",
        "    player.append(name)\n",
        "\n",
        "    # answer checking\n",
        "    score = 0\n",
        "    for question in questions:\n",
        "      print(question)\n",
        "      check_ans()\n",
        "      while answer not in answer_op:\n",
        "        print('Try again.')\n",
        "        check_ans()\n",
        "\n",
        "    player.append(score)\n",
        "    players.append(player)\n",
        "\n",
        "    # evaluating score\n",
        "    print(f\"\\nEnd of the quiz.\\nYou got {player[1]} out of 10 {player[0].title()}.\\n\")\n",
        "    if score == 10: print(\"Cogratulations! You're a 100% #CertifiedPinoy!\\n\")\n",
        "    elif score == 9: print(\"You almost nailed it! You're 90% #CertifiedPinoy!\\n\")\n",
        "    elif score == 8: print(\"Good job! You're 80% #CertifiedPinoy!\\n\")\n",
        "    elif score == 7: print(\"Nice! You're 70% #CertifiedPinoy!\\n\")\n",
        "    elif score <= 6: print(\"Seriously? Try to be more pinoy next time.\\n\")\n",
        "\n",
        "    # reset player list\n",
        "    player = []\n",
        "    \n",
        "    #Player Tracker\n",
        "    print(\"Player Tracker: \") \n",
        "    Sort(players)\n",
        "    for index, x in enumerate(players):\n",
        "      rank = str(index + 1)\n",
        "      print(f\"#{rank} {x[0].title()} >> {x[1]}\")\n",
        "\n",
        "    print(\"\\nWanna play again? Yes or No? \")\n",
        "    start = input()\n",
        "    start = start.lower()\n",
        "\n",
        "  print(\"\\nQuiz has reached its maximum users.\")\n",
        "  break\n",
        "  \n",
        "else:\n",
        "  print(\"Quiz already ended. Sorry\")"
      ],
      "execution_count": null,
      "outputs": []
    },
    {
      "cell_type": "markdown",
      "metadata": {
        "id": "1xhprPcHZ5Lj"
      },
      "source": [
        ""
      ]
    }
  ]
}