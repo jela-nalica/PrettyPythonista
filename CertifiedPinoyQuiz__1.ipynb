{
  "nbformat": 4,
  "nbformat_minor": 0,
  "metadata": {
    "colab": {
      "name": "CertifiedPinoyQuiz_#1.ipynb",
      "provenance": [],
      "collapsed_sections": []
    },
    "kernelspec": {
      "name": "python3",
      "display_name": "Python 3"
    }
  },
  "cells": [
    {
      "cell_type": "markdown",
      "metadata": {
        "id": "Qe6nLjXHOU2l",
        "colab_type": "text"
      },
      "source": [
        "# **Are you a #CertifiedFilipino?**"
      ]
    },
    {
      "cell_type": "code",
      "metadata": {
        "id": "-TT0lQDuO1UA",
        "colab_type": "code",
        "colab": {}
      },
      "source": [
        "name = input(\"Please enter you name: \")"
      ],
      "execution_count": null,
      "outputs": []
    },
    {
      "cell_type": "markdown",
      "metadata": {
        "id": "428zcsC5Tbej",
        "colab_type": "text"
      },
      "source": [
        "# 1. Do you eat rice 3x a day or more? "
      ]
    },
    {
      "cell_type": "code",
      "metadata": {
        "id": "71t5o4l0Wqzg",
        "colab_type": "code",
        "colab": {}
      },
      "source": [
        "score = 0\n",
        "x = input(\"yes or no? \")\n",
        "answer = x\n",
        "if answer == 'yes': score += 1\n",
        "elif answer == 'no': score += 0\n",
        "else: print(\"write yes or no only.\")"
      ],
      "execution_count": null,
      "outputs": []
    },
    {
      "cell_type": "markdown",
      "metadata": {
        "id": "tPMdYB3saXsI",
        "colab_type": "text"
      },
      "source": [
        "# 2. Do you eat balut?\n"
      ]
    },
    {
      "cell_type": "code",
      "metadata": {
        "id": "8-em2Ib-aXMj",
        "colab_type": "code",
        "colab": {}
      },
      "source": [
        "x = input(\"yes or no? \")\n",
        "answer = x\n",
        "if answer == 'yes': score += 1\n",
        "elif answer == 'no': score += 0\n",
        "else: print(\"write yes or no only.\")"
      ],
      "execution_count": null,
      "outputs": []
    },
    {
      "cell_type": "markdown",
      "metadata": {
        "id": "OoDcSbaGb8TR",
        "colab_type": "text"
      },
      "source": [
        "# 3. Do you panic when you hear a balut vendor?"
      ]
    },
    {
      "cell_type": "code",
      "metadata": {
        "id": "3OtisLOdcXJp",
        "colab_type": "code",
        "colab": {}
      },
      "source": [
        "x = input(\"yes or no? \")\n",
        "answer = x\n",
        "if answer == 'yes': score += 1\n",
        "elif answer == 'no': score += 0\n",
        "else: print(\"write yes or no only.\")"
      ],
      "execution_count": null,
      "outputs": []
    },
    {
      "cell_type": "markdown",
      "metadata": {
        "id": "xWa449NmcAmV",
        "colab_type": "text"
      },
      "source": [
        "# 4. Have you ever used hands in eating?"
      ]
    },
    {
      "cell_type": "code",
      "metadata": {
        "id": "UzlYOxiKca83",
        "colab_type": "code",
        "colab": {}
      },
      "source": [
        "x = input(\"yes or no? \")\n",
        "answer = x\n",
        "if answer == 'yes': score += 1\n",
        "elif answer == 'no': score += 0\n",
        "else: print(\"write yes or no only.\")"
      ],
      "execution_count": null,
      "outputs": []
    },
    {
      "cell_type": "markdown",
      "metadata": {
        "id": "ZmYuMmSccF5d",
        "colab_type": "text"
      },
      "source": [
        "# 5. Do you watch a film whenever there's an MMFF?\n"
      ]
    },
    {
      "cell_type": "code",
      "metadata": {
        "id": "IW0cQoA7cdme",
        "colab_type": "code",
        "colab": {}
      },
      "source": [
        "x = input(\"yes or no? \")\n",
        "answer = x\n",
        "if answer == 'yes': score += 1\n",
        "elif answer == 'no': score += 0\n",
        "else: print(\"write yes or no only.\")"
      ],
      "execution_count": null,
      "outputs": []
    },
    {
      "cell_type": "markdown",
      "metadata": {
        "id": "NbTJdvuVcLex",
        "colab_type": "text"
      },
      "source": [
        "# 6. Have you ever been to a luneta park?"
      ]
    },
    {
      "cell_type": "code",
      "metadata": {
        "id": "tRWoQuP2ceti",
        "colab_type": "code",
        "colab": {}
      },
      "source": [
        "x = input(\"yes or no? \")\n",
        "answer = x\n",
        "if answer == 'yes': score += 1\n",
        "elif answer == 'no': score += 0\n",
        "else: print(\"write yes or no only.\")"
      ],
      "execution_count": null,
      "outputs": []
    },
    {
      "cell_type": "markdown",
      "metadata": {
        "id": "W9DMHK4xcOov",
        "colab_type": "text"
      },
      "source": [
        "# 7. Do  you put hotdog In you spaghetti?"
      ]
    },
    {
      "cell_type": "code",
      "metadata": {
        "id": "FIU2cgXAcfoo",
        "colab_type": "code",
        "colab": {}
      },
      "source": [
        "x = input(\"yes or no? \")\n",
        "answer = x\n",
        "if answer == 'yes': score += 1\n",
        "elif answer == 'no': score += 0\n",
        "else: print(\"write yes or no only.\")"
      ],
      "execution_count": null,
      "outputs": []
    },
    {
      "cell_type": "markdown",
      "metadata": {
        "id": "ZmM2Wql_cTxq",
        "colab_type": "text"
      },
      "source": [
        "# 8. Have you ever ride a jeep?"
      ]
    },
    {
      "cell_type": "code",
      "metadata": {
        "id": "6E5MnQBhcgeK",
        "colab_type": "code",
        "colab": {}
      },
      "source": [
        "x = input(\"yes or no? \")\n",
        "answer = x\n",
        "if answer == 'yes': score += 1\n",
        "elif answer == 'no': score += 0\n",
        "else: print(\"write yes or no only.\")"
      ],
      "execution_count": null,
      "outputs": []
    },
    {
      "cell_type": "markdown",
      "metadata": {
        "id": "wF4mm96dci-D",
        "colab_type": "text"
      },
      "source": [
        "# 9. Do you still bless to your ninong and ninang?"
      ]
    },
    {
      "cell_type": "code",
      "metadata": {
        "id": "0ymGe8fFcsxh",
        "colab_type": "code",
        "colab": {}
      },
      "source": [
        "x = input(\"yes or no? \")\n",
        "answer = x\n",
        "if answer == 'yes': score += 1\n",
        "elif answer == 'no': score += 0\n",
        "else: print(\"write yes or no only.\")"
      ],
      "execution_count": null,
      "outputs": []
    },
    {
      "cell_type": "markdown",
      "metadata": {
        "id": "B4217w7zcmKA",
        "colab_type": "text"
      },
      "source": [
        "# 10. Did you greet merry chirstmas as early as Sept 1?"
      ]
    },
    {
      "cell_type": "code",
      "metadata": {
        "id": "HNUcHz2pct5v",
        "colab_type": "code",
        "colab": {}
      },
      "source": [
        "x = input(\"yes or no? \")\n",
        "answer = x\n",
        "if answer == 'yes': score += 1\n",
        "elif answer == 'no': score += 0\n",
        "else: print(\"write yes or no only.\")"
      ],
      "execution_count": null,
      "outputs": []
    },
    {
      "cell_type": "markdown",
      "metadata": {
        "id": "gG9QFRQdgRXm",
        "colab_type": "text"
      },
      "source": [
        "# How Filipino are you? Let's evaluate now!"
      ]
    },
    {
      "cell_type": "code",
      "metadata": {
        "id": "fnveXmg2cFLT",
        "colab_type": "code",
        "colab": {}
      },
      "source": [
        "if score == 10: print(\"You're a 100% Pinoy!\")\n",
        "elif score == 9: print(\"You're 90% Pinoy!\")\n",
        "elif score == 8: print(\"You're 80% Pinoy!\")\n",
        "elif score == 7: print(\"You're 70% Pinoy!\")\n",
        "elif score == 6: print(\"You're 60% Pinoy!\")\n",
        "elif score <= 5: print(\"You failed! Try to be more pinoy next time!\")"
      ],
      "execution_count": null,
      "outputs": []
    }
  ]
}