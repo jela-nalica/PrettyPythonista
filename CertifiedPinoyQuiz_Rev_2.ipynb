{
  "nbformat": 4,
  "nbformat_minor": 0,
  "metadata": {
    "colab": {
      "name": " CertifiedPinoyQuiz_Rev#2.ipynb",
      "provenance": [],
      "collapsed_sections": []
    },
    "kernelspec": {
      "name": "python3",
      "display_name": "Python 3"
    }
  },
  "cells": [
    {
      "cell_type": "markdown",
      "metadata": {
        "id": "Qe6nLjXHOU2l",
        "colab_type": "text"
      },
      "source": [
        "# **Are you a #CertifiedFilipino?**\n",
        "### the user-friendly version"
      ]
    },
    {
      "cell_type": "code",
      "metadata": {
        "id": "-TT0lQDuO1UA",
        "colab_type": "code",
        "colab": {}
      },
      "source": [
        "def intro():\n",
        "  print(\"Wanna find out how pinoy are you?\")\n",
        "  print(\"Just honestly type-in Yes or No to answer the following questions. Goodluck!\")\n",
        "\n",
        "questions = ['Do you eat rice 3x a day',\n",
        "            'Do you eat \"balut\"?',\n",
        "            'Do you panic whenever you hear a \"taho vendor\"?',\n",
        "            'Have you eaten with your bare hands?',\n",
        "            'Do you watch a film every MMFF?',\n",
        "            'Have you taken your picture in the Luneta Park?',\n",
        "            'Do you put hotdog in your spaghetti?',\n",
        "            'Do you ride a jeep?',\n",
        "            'Do you still bless to your ninong and ninang?',\n",
        "            'Do you greet Merry Christmas as early as September 1?']\n",
        "\n",
        "intro()\n",
        "name = input(\"May I know you nickname please? \")\n",
        "# checking of answers\n",
        "score = 0\n",
        "for question in questions:\n",
        "  print(question)\n",
        "  answer = input(\"YES or NO?\\n\")\n",
        "  answer = answer.lower()\n",
        "  if answer == 'yes': score += 1\n",
        "  else: continue\n",
        "\n",
        "# evaluating score\n",
        "print(f\"End of the quiz.\\nYou got {score} out of 10 {name.title()}.\")\n",
        "if score == 10: print(\"Cogratulations! You're a 100% #CertifiedPinoy!\")\n",
        "elif score == 9: print(\"You almost nailed it! You're 90% #CertifiedPinoy!\")\n",
        "elif score == 8: print(\"Good job! You're 80% #CertifiedPinoy!\")\n",
        "elif score == 7: print(\"Nice! You're 70% #CertifiedPinoy!\")\n",
        "elif score <= 6: print(\"Seriously? Try to be more pinoy next time.\")\n"
      ],
      "execution_count": null,
      "outputs": []
    },
    {
      "cell_type": "code",
      "metadata": {
        "id": "x9ICH3oEBqxb",
        "colab_type": "code",
        "colab": {}
      },
      "source": [
        ""
      ],
      "execution_count": null,
      "outputs": []
    }
  ]
}